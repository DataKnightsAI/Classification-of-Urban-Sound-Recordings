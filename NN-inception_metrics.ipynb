{
 "cells": [
  {
   "cell_type": "code",
   "execution_count": 1,
   "metadata": {},
   "outputs": [],
   "source": [
    "import pandas as pd\n",
    "import numpy as np\n",
    "import tensorflow as tf\n",
    "from tensorflow.keras.preprocessing.image import ImageDataGenerator\n",
    "\n",
    "# from tensorflow import keras\n",
    "import sklearn\n",
    "from sklearn.model_selection import KFold\n",
    "from sklearn.linear_model import LogisticRegression\n",
    "from sklearn.ensemble import RandomForestClassifier, AdaBoostClassifier, \\\n",
    "        GradientBoostingClassifier, StackingClassifier, BaggingClassifier\n",
    "from sklearn.naive_bayes import GaussianNB\n",
    "from sklearn.svm import LinearSVC, SVC\n",
    "from sklearn.tree import DecisionTreeClassifier\n",
    "from sklearn.linear_model import SGDClassifier\n",
    "from sklearn.neighbors import KNeighborsClassifier\n",
    "from sklearn.multiclass import OneVsRestClassifier\n",
    "\n",
    "from sklearn.preprocessing import label_binarize\n",
    "from sklearn.metrics import fbeta_score, make_scorer\n",
    "from sklearn.metrics import balanced_accuracy_score, accuracy_score, precision_score, recall_score, f1_score, roc_auc_score\n",
    "\n",
    "from sklearn.model_selection import cross_validate\n",
    "from mlxtend.plotting import plot_learning_curves\n",
    "import matplotlib.pyplot as plt\n",
    "plt.style.use('ggplot')\n",
    "\n",
    "from sklearn.metrics import confusion_matrix\n",
    "import seaborn as sns\n",
    "\n",
    "from sklearn.model_selection import train_test_split\n",
    "\n",
    "import scikitplot as skplt\n"
   ]
  },
  {
   "cell_type": "code",
   "execution_count": 2,
   "metadata": {},
   "outputs": [],
   "source": [
    "# Loads full model\n",
    "model = tf.keras.models.load_model('model_trained_sound_10.hdf5')"
   ]
  },
  {
   "cell_type": "code",
   "execution_count": 3,
   "metadata": {},
   "outputs": [
    {
     "name": "stdout",
     "output_type": "stream",
     "text": [
      "Found 1572 images belonging to 10 classes.\n"
     ]
    }
   ],
   "source": [
    "src = '../CSML1020-Group_5-Project-UrbanSound-8K/output'\n",
    "validation_dir = src + '/test'\n",
    "batch_size = 20\n",
    "\n",
    "test_datagen = ImageDataGenerator(rescale=1. / 255)\n",
    "\n",
    "validation_generator = test_datagen.flow_from_directory(\n",
    "    validation_dir,\n",
    "    batch_size=batch_size,\n",
    "    shuffle=False,\n",
    "    class_mode='categorical')"
   ]
  },
  {
   "cell_type": "code",
   "execution_count": 4,
   "metadata": {},
   "outputs": [],
   "source": [
    "y_predictions = model.predict(validation_generator)\n",
    "class_predictions = np.argmax(y_predictions, axis = 1) #doesn't work I think, getting really poor results"
   ]
  },
  {
   "cell_type": "code",
   "execution_count": 5,
   "metadata": {},
   "outputs": [
    {
     "data": {
      "text/plain": [
       "1572"
      ]
     },
     "execution_count": 5,
     "metadata": {},
     "output_type": "execute_result"
    }
   ],
   "source": [
    "len(class_predictions)"
   ]
  },
  {
   "cell_type": "code",
   "execution_count": 6,
   "metadata": {},
   "outputs": [
    {
     "data": {
      "text/plain": [
       "array([0, 0, 0, ..., 9, 9, 2])"
      ]
     },
     "execution_count": 6,
     "metadata": {},
     "output_type": "execute_result"
    }
   ],
   "source": [
    "class_predictions"
   ]
  },
  {
   "cell_type": "code",
   "execution_count": 7,
   "metadata": {},
   "outputs": [
    {
     "data": {
      "text/plain": [
       "{'air_conditioner': 0,\n",
       " 'car_horn': 1,\n",
       " 'children_playing': 2,\n",
       " 'dog_bark': 3,\n",
       " 'drilling': 4,\n",
       " 'engine_idling': 5,\n",
       " 'gun_shot': 6,\n",
       " 'jackhammer': 7,\n",
       " 'siren': 8,\n",
       " 'street_music': 9}"
      ]
     },
     "execution_count": 7,
     "metadata": {},
     "output_type": "execute_result"
    }
   ],
   "source": [
    "labels = (validation_generator.class_indices)\n",
    "labels"
   ]
  },
  {
   "cell_type": "code",
   "execution_count": 8,
   "metadata": {},
   "outputs": [],
   "source": [
    "#x1, y1 = validation_generator.next()\n",
    "#print(y1)\n",
    "y_test = validation_generator.classes"
   ]
  },
  {
   "cell_type": "code",
   "execution_count": 9,
   "metadata": {},
   "outputs": [
    {
     "data": {
      "text/plain": [
       "array([0, 0, 0, ..., 9, 9, 9], dtype=int32)"
      ]
     },
     "execution_count": 9,
     "metadata": {},
     "output_type": "execute_result"
    }
   ],
   "source": [
    "y_test"
   ]
  },
  {
   "cell_type": "code",
   "execution_count": 10,
   "metadata": {},
   "outputs": [
    {
     "data": {
      "text/plain": [
       "1572"
      ]
     },
     "execution_count": 10,
     "metadata": {},
     "output_type": "execute_result"
    }
   ],
   "source": [
    "len(y_test)"
   ]
  },
  {
   "cell_type": "code",
   "execution_count": 11,
   "metadata": {},
   "outputs": [
    {
     "name": "stdout",
     "output_type": "stream",
     "text": [
      "Accuracy: 0.8352417302798982\n",
      "Precision: 0.8394348693899663\n",
      "Recall: 0.8474205871045827\n",
      "f1_score: 0.8422232270973998\n",
      "confusion_matrix\n",
      "[[177   1   1   1   1   2   0   0   0  13]\n",
      " [  0  70   0   0   0   1   0   0   0   1]\n",
      " [  5   1 119  19   6  12   4   3   3  10]\n",
      " [  1   0  13 136   4   3   2   0   7   2]\n",
      " [  2   2   9   3 148   2   0  11   0   5]\n",
      " [  0   0   4   2   0 160   0   0   0   5]\n",
      " [  1   0   3   1   1   1  60   0   0   0]\n",
      " [  0   1   1   1   6   5   0 172   0   3]\n",
      " [  0   2   3   8   5   1   0   0 129   6]\n",
      " [  8   6  11   3   8   7   1   3   2 142]]\n",
      "roc_auc_score: 0.979390791237806\n"
     ]
    },
    {
     "data": {
      "image/png": "[encoded data removed]",
      "text/plain": [
       "<Figure size 432x288 with 2 Axes>"
      ]
     },
     "metadata": {},
     "output_type": "display_data"
    }
   ],
   "source": [
    "df_metrics = pd.DataFrame(columns=['accuracy', 'precision', 'recall', 'f1_score', 'confusion_matrix', 'roc_auc_score'])\n",
    "\n",
    "accuracy_score = sklearn.metrics.accuracy_score(y_test, class_predictions)\n",
    "precision_score = sklearn.metrics.precision_score(y_test, class_predictions, average='macro')\n",
    "recall_score = sklearn.metrics.recall_score(y_test, class_predictions, average='macro')\n",
    "f1_score = sklearn.metrics.f1_score(y_test, class_predictions, average='macro')\n",
    "confusion_matrix = sklearn.metrics.confusion_matrix(y_test, class_predictions)\n",
    "roc_auc_score = sklearn.metrics.roc_auc_score(y_test, y_predictions, multi_class='ovr')\n",
    "#fpr, tpr, thresholds = sklearn.metrics.roc_curve(y_test, class_predictions) #doesn't do multiclass\n",
    "\n",
    "print(\"Accuracy: \" + str(accuracy_score))\n",
    "print(\"Precision: \"+ str(precision_score))\n",
    "print(\"Recall: \" + str(recall_score))\n",
    "print(\"f1_score: \" + str(f1_score))\n",
    "print(\"confusion_matrix\")\n",
    "print(confusion_matrix)\n",
    "print('roc_auc_score: ' + str(roc_auc_score))\n",
    "\n",
    "#print(\"fpr: \" + fpr)\n",
    "#print(\"tpr: \" + tpr)\n",
    "#print(\"thresholds: \" + thresholds)\n",
    "\n",
    "#generate roc curve\n",
    "\n",
    "df_metrics = df_metrics.append({\n",
    "    'accuracy': accuracy_score, \n",
    "    'precision': precision_score,\n",
    "    'recall': recall_score,\n",
    "    'f1_score': f1_score,\n",
    "    'confusion_matrix': confusion_matrix,\n",
    "    'roc_auc_score': roc_auc_score\n",
    "}, ignore_index=True)\n",
    "\n",
    "CLASSES = ['A/C', 'Car Horn', 'Children Play', 'Dog Bark',\n",
    "       'Drilling', 'Engine Idle', 'Gun Shot', 'Jackhammer',\n",
    "       'Siren', 'Street Music']\n",
    "#cm = confusion_matrix(np.argmax(y_test, axis=1), np.argmax(y_test_pred[i], axis=1))\n",
    "cm_df = pd.DataFrame(confusion_matrix, index = CLASSES, columns = CLASSES)\n",
    "cm_df.index.name = 'Actual'\n",
    "cm_df.columns.name = 'Predicted'\n",
    "plt.title('Confusion Matrix for Inception Model', fontsize=14)\n",
    "sns.heatmap(cm_df, annot=True, fmt='.6g', annot_kws={\"size\": 10}, cmap='Reds')\n",
    "plt.show()\n",
    "    "
   ]
  },
  {
   "cell_type": "code",
   "execution_count": 12,
   "metadata": {},
   "outputs": [],
   "source": [
    "df_metrics.to_csv('./output/nn-results/nn-inception_results.csv')"
   ]
  },
  {
   "cell_type": "code",
   "execution_count": 13,
   "metadata": {},
   "outputs": [
    {
     "data": {
      "text/plain": [
       "array([0.90306122, 0.97222222, 0.65384615, 0.80952381, 0.81318681,\n",
       "       0.93567251, 0.89552239, 0.91005291, 0.83766234, 0.7434555 ])"
      ]
     },
     "execution_count": 13,
     "metadata": {},
     "output_type": "execute_result"
    }
   ],
   "source": [
    "accuracies_by_class = confusion_matrix.diagonal()/confusion_matrix.sum(axis=1)\n",
    "accuracies_by_class"
   ]
  },
  {
   "cell_type": "code",
   "execution_count": 14,
   "metadata": {},
   "outputs": [],
   "source": [
    "df_accuracy_by_class = pd.DataFrame(columns=[\n",
    "    'class',\n",
    "    'accuracy_score'\n",
    "])\n",
    "    \n",
    "df_accuracy_by_class = df_accuracy_by_class.append({\n",
    "    \"class\": \"Accuracy - A/C\",\n",
    "    \"accuracy_score\": accuracies_by_class[0]\n",
    " }, ignore_index=True)\n",
    "\n",
    "df_accuracy_by_class = df_accuracy_by_class.append({\n",
    "    \"class\": \"Accuracy - Car Horn\",\n",
    "    \"accuracy_score\": accuracies_by_class[1]\n",
    " }, ignore_index=True)\n",
    "\n",
    "df_accuracy_by_class = df_accuracy_by_class.append({\n",
    "    \"class\": \"Accuracy - Children Play\",\n",
    "    \"accuracy_score\": accuracies_by_class[2]\n",
    " }, ignore_index=True)\n",
    "\n",
    "df_accuracy_by_class = df_accuracy_by_class.append({\n",
    "    \"class\": \"Accuracy - Dog Bark\",\n",
    "    \"accuracy_score\": accuracies_by_class[3]\n",
    " }, ignore_index=True)\n",
    "\n",
    "df_accuracy_by_class = df_accuracy_by_class.append({\n",
    "    \"class\": \"Accuracy - Drilling\",\n",
    "    \"accuracy_score\": accuracies_by_class[4]\n",
    " }, ignore_index=True)\n",
    "\n",
    "df_accuracy_by_class = df_accuracy_by_class.append({\n",
    "    \"class\": \"Accuracy - Engine Idle\",\n",
    "    \"accuracy_score\": accuracies_by_class[5]\n",
    " }, ignore_index=True)\n",
    "\n",
    "df_accuracy_by_class = df_accuracy_by_class.append({\n",
    "    \"class\": \"Accuracy - Gun Shot\",\n",
    "    \"accuracy_score\": accuracies_by_class[6]\n",
    " }, ignore_index=True)\n",
    "\n",
    "df_accuracy_by_class = df_accuracy_by_class.append({\n",
    "    \"class\": \"Accuracy - Jackhammer\",\n",
    "    \"accuracy_score\": accuracies_by_class[7]\n",
    " }, ignore_index=True)\n",
    "\n",
    "df_accuracy_by_class = df_accuracy_by_class.append({\n",
    "    \"class\": \"Accuracy - Siren\",\n",
    "    \"accuracy_score\": accuracies_by_class[8]\n",
    " }, ignore_index=True)\n",
    "\n",
    "df_accuracy_by_class = df_accuracy_by_class.append({\n",
    "    \"class\": \"Accuracy - Street Music\",\n",
    "    \"accuracy_score\": accuracies_by_class[9]\n",
    " }, ignore_index=True)"
   ]
  },
  {
   "cell_type": "code",
   "execution_count": 15,
   "metadata": {},
   "outputs": [
    {
     "data": {
      "text/html": [
       "<div>\n",
       "<style scoped>\n",
       "    .dataframe tbody tr th:only-of-type {\n",
       "        vertical-align: middle;\n",
       "    }\n",
       "\n",
       "    .dataframe tbody tr th {\n",
       "        vertical-align: top;\n",
       "    }\n",
       "\n",
       "    .dataframe thead th {\n",
       "        text-align: right;\n",
       "    }\n",
       "</style>\n",
       "<table border=\"1\" class=\"dataframe\">\n",
       "  <thead>\n",
       "    <tr style=\"text-align: right;\">\n",
       "      <th></th>\n",
       "      <th>class</th>\n",
       "      <th>accuracy_score</th>\n",
       "    </tr>\n",
       "  </thead>\n",
       "  <tbody>\n",
       "    <tr>\n",
       "      <th>0</th>\n",
       "      <td>Accuracy - A/C</td>\n",
       "      <td>0.903061</td>\n",
       "    </tr>\n",
       "    <tr>\n",
       "      <th>1</th>\n",
       "      <td>Accuracy - Car Horn</td>\n",
       "      <td>0.972222</td>\n",
       "    </tr>\n",
       "    <tr>\n",
       "      <th>2</th>\n",
       "      <td>Accuracy - Children Play</td>\n",
       "      <td>0.653846</td>\n",
       "    </tr>\n",
       "    <tr>\n",
       "      <th>3</th>\n",
       "      <td>Accuracy - Dog Bark</td>\n",
       "      <td>0.809524</td>\n",
       "    </tr>\n",
       "    <tr>\n",
       "      <th>4</th>\n",
       "      <td>Accuracy - Drilling</td>\n",
       "      <td>0.813187</td>\n",
       "    </tr>\n",
       "    <tr>\n",
       "      <th>5</th>\n",
       "      <td>Accuracy - Engine Idle</td>\n",
       "      <td>0.935673</td>\n",
       "    </tr>\n",
       "    <tr>\n",
       "      <th>6</th>\n",
       "      <td>Accuracy - Gun Shot</td>\n",
       "      <td>0.895522</td>\n",
       "    </tr>\n",
       "    <tr>\n",
       "      <th>7</th>\n",
       "      <td>Accuracy - Jackhammer</td>\n",
       "      <td>0.910053</td>\n",
       "    </tr>\n",
       "    <tr>\n",
       "      <th>8</th>\n",
       "      <td>Accuracy - Siren</td>\n",
       "      <td>0.837662</td>\n",
       "    </tr>\n",
       "    <tr>\n",
       "      <th>9</th>\n",
       "      <td>Accuracy - Street Music</td>\n",
       "      <td>0.743455</td>\n",
       "    </tr>\n",
       "  </tbody>\n",
       "</table>\n",
       "</div>"
      ],
      "text/plain": [
       "                      class  accuracy_score\n",
       "0            Accuracy - A/C        0.903061\n",
       "1       Accuracy - Car Horn        0.972222\n",
       "2  Accuracy - Children Play        0.653846\n",
       "3       Accuracy - Dog Bark        0.809524\n",
       "4       Accuracy - Drilling        0.813187\n",
       "5    Accuracy - Engine Idle        0.935673\n",
       "6       Accuracy - Gun Shot        0.895522\n",
       "7     Accuracy - Jackhammer        0.910053\n",
       "8          Accuracy - Siren        0.837662\n",
       "9   Accuracy - Street Music        0.743455"
      ]
     },
     "execution_count": 15,
     "metadata": {},
     "output_type": "execute_result"
    }
   ],
   "source": [
    "df_accuracy_by_class"
   ]
  },
  {
   "cell_type": "code",
   "execution_count": 16,
   "metadata": {},
   "outputs": [],
   "source": [
    "df_accuracy_by_class.to_csv('./output/nn-results/nn-inception_class_accuracies.csv')"
   ]
  },
  {
   "cell_type": "code",
   "execution_count": null,
   "metadata": {},
   "outputs": [],
   "source": []
  }
 ],
 "metadata": {
  "environment": {
   "name": "tf2-2-2-gpu.2-2.m49",
   "type": "gcloud",
   "uri": "gcr.io/deeplearning-platform-release/tf2-2-2-gpu.2-2:m49"
  },
  "kernelspec": {
   "display_name": "Python 3",
   "language": "python",
   "name": "python3"
  },
  "language_info": {
   "codemirror_mode": {
    "name": "ipython",
    "version": 3
   },
   "file_extension": ".py",
   "mimetype": "text/x-python",
   "name": "python",
   "nbconvert_exporter": "python",
   "pygments_lexer": "ipython3",
   "version": "3.7.6"
  }
 },
 "nbformat": 4,
 "nbformat_minor": 4
}
